{
 "cells": [
  {
   "cell_type": "markdown",
   "metadata": {},
   "source": [
    "# Exercise 1\n",
    "## Question 1\n"
   ]
  },
  {
   "cell_type": "markdown",
   "metadata": {},
   "source": [
    "### Import"
   ]
  },
  {
   "cell_type": "code",
   "execution_count": null,
   "metadata": {},
   "outputs": [],
   "source": [
    "import binascii"
   ]
  },
  {
   "cell_type": "markdown",
   "metadata": {},
   "source": [
    "### Parameters"
   ]
  },
  {
   "cell_type": "code",
   "execution_count": null,
   "metadata": {},
   "outputs": [],
   "source": [
    "# Key \n",
    "K = \"blockchain\"\n",
    "\n",
    "# Strings to be encrypted \n",
    "S1 = \"bitcoin\"\n",
    "S2 = \"This is such a great class\""
   ]
  },
  {
   "cell_type": "markdown",
   "metadata": {},
   "source": [
    "### Function"
   ]
  },
  {
   "cell_type": "code",
   "execution_count": 6,
   "metadata": {},
   "outputs": [],
   "source": [
    "def xor_encrypt(plaintext, key):\n",
    "\n",
    "    # Extend the key K to match the length of the string S\n",
    "    key = (key * (len(plaintext) // len(key) + 1))[:len(plaintext)]\n",
    "    \n",
    "    # Perform XOR for each character of the string S with the corresponding character in the key K\n",
    "    encrypted = [ord(p) ^ ord(k) for p, k in zip(plaintext, key)]\n",
    "    \n",
    "    # Convert to bytes\n",
    "    encrypted_bytes = bytes(encrypted)\n",
    "    \n",
    "    # Convert bytes to hexadecimal\n",
    "    return binascii.hexlify(encrypted_bytes).decode('utf-8')"
   ]
  },
  {
   "cell_type": "markdown",
   "metadata": {},
   "source": [
    "### Main Program"
   ]
  },
  {
   "cell_type": "code",
   "execution_count": 5,
   "metadata": {},
   "outputs": [
    {
     "name": "stdout",
     "output_type": "stream",
     "text": [
      "Encrypted result for 'bitcoin': 00051b00040a06\n",
      "Encrypted result for 'This is such a great class': 360406104b0a1b411a1b01044f024b041a04081a420f03021810\n"
     ]
    }
   ],
   "source": [
    "\n",
    "ciphertext1 = xor_encrypt(S1, K)\n",
    "print(f\"Encrypted result for 'bitcoin': {ciphertext1}\")\n",
    "\n",
    "ciphertext2 = xor_encrypt(S2, K)\n",
    "print(f\"Encrypted result for 'This is such a great class': {ciphertext2}\")"
   ]
  },
  {
   "cell_type": "markdown",
   "metadata": {},
   "source": [
    "## Question 2"
   ]
  },
  {
   "cell_type": "markdown",
   "metadata": {},
   "source": [
    "### Import"
   ]
  },
  {
   "cell_type": "code",
   "execution_count": null,
   "metadata": {},
   "outputs": [],
   "source": [
    "from cryptography.hazmat.primitives.asymmetric import rsa, padding\n",
    "from cryptography.hazmat.primitives import hashes\n",
    "from cryptography.hazmat.primitives import serialization"
   ]
  },
  {
   "cell_type": "markdown",
   "metadata": {},
   "source": [
    "### Parameters"
   ]
  },
  {
   "cell_type": "code",
   "execution_count": null,
   "metadata": {},
   "outputs": [],
   "source": [
    "# Public key from PEM format\n",
    "public_key_pem = b\"\"\"\n",
    "-----BEGIN PUBLIC KEY-----\n",
    "MIIBIjANBgkqhkiG9w0BAQEFAAOCAQ8AMIIBCgKCAQEAmMHeB1dn32uYiLzCm5F1\n",
    "/N/7C8leqtPgft4vbHtjS1gOLMTYqC7qR1fKvyRN2JvenlzwJBIgFSHU+rhFTKCp\n",
    "rSvAjQTr8L0J+B2o/fNTpINVDZcKF2sF1ye6aljfLP3ehY6uSzLPBo5q3Od/js/J\n",
    "+xZ0/cGe6jCQFLs3IoIhM9kZEwOfOGW969d5dxoxIFBKh0Q1EMzoUb2SggNPQWxw\n",
    "bYrWcMpYjiRQWXBb/XnRoz+U/u79l0I4AeYpEAMmX0rWXhdh//nhhxp7iWpv0Qm5\n",
    "qiExUrqPIyjI55zzqjKj2xPX0bmgbf3tPMxQEeR9kjYZ3KJX1K8Qxx7Bm8kHDuwa\n",
    "VQIDAQAB\n",
    "-----END PUBLIC KEY-----\n",
    "\"\"\"\n",
    "\n",
    "# Message to encrypt\n",
    "message = b\"Hi, my name is Duy Tung, student in Master Digital Economics.\""
   ]
  },
  {
   "cell_type": "markdown",
   "metadata": {},
   "source": [
    "### Main Program"
   ]
  },
  {
   "cell_type": "code",
   "execution_count": 17,
   "metadata": {},
   "outputs": [
    {
     "name": "stdout",
     "output_type": "stream",
     "text": [
      "6719d439a7422401b915b864b0fca205cfadfe9f7c86eaf7e7c060407d797dc58ac42be763af0387c15c40213d28a77ccdcd07de4839f97e49d3721ea77501065b9df0d0d462a36dc168320386f58fbf65e494987432b67ee9b60be7df5cef4210355aae99066d3924328dc0f04f559b425b33fc063e3ba1ef1ef8a3b708ce12b2759b1ec0c40beadee6eb338aa95e19ee9db034eb1fd482adb6d9bfece90fe8b651bb8003746147920ebae80f72c3516acc73701e6db68b53a851b5671475a2ed1d999462c248b9a05c7211a3cfcff2d8ad2bb8b2424331c952ea8a466c3c7bc68c5813574729e01ca00c90726aa3a9312dbadb8a0f6ef2fc4983fbc16d1a8e\n"
     ]
    }
   ],
   "source": [
    "# Load the public key\n",
    "public_key = serialization.load_pem_public_key(public_key_pem)\n",
    "\n",
    "# Encrypt the message with the public key\n",
    "encrypted_message = public_key.encrypt(\n",
    "    message,\n",
    "    padding.OAEP(\n",
    "        mgf=padding.MGF1(algorithm=hashes.SHA256()),\n",
    "        algorithm=hashes.SHA256(),\n",
    "        label=None\n",
    "    )\n",
    ")\n",
    "\n",
    "# Display the encrypted message in hexadecimal\n",
    "print(encrypted_message.hex())"
   ]
  },
  {
   "cell_type": "markdown",
   "metadata": {},
   "source": [
    "# Exercise 2"
   ]
  },
  {
   "cell_type": "markdown",
   "metadata": {},
   "source": [
    "### Import"
   ]
  },
  {
   "cell_type": "code",
   "execution_count": 10,
   "metadata": {},
   "outputs": [],
   "source": [
    "import hashlib\n",
    "import time"
   ]
  },
  {
   "cell_type": "markdown",
   "metadata": {},
   "source": [
    "### Parameters"
   ]
  },
  {
   "cell_type": "code",
   "execution_count": 32,
   "metadata": {},
   "outputs": [],
   "source": [
    "name = \"Duy-Tung:DigitalEconomics:\" "
   ]
  },
  {
   "cell_type": "markdown",
   "metadata": {},
   "source": [
    "### Function"
   ]
  },
  {
   "cell_type": "code",
   "execution_count": 39,
   "metadata": {},
   "outputs": [],
   "source": [
    "def proof_of_work(name, number_of_zero):\n",
    "    base_message = f\"{name}\"\n",
    "    \n",
    "    # Start finding the nonce\n",
    "    nonce = 0\n",
    "    target = \"0\" * number_of_zero \n",
    "    \n",
    "    start_time = time.time() \n",
    "    \n",
    "    while True:\n",
    "        message = f\"{base_message}{nonce}\"\n",
    "        \n",
    "        # Generate SHA256 hash\n",
    "        hash_value = hashlib.sha256(message.encode()).hexdigest()\n",
    "        \n",
    "        # Check if the hash starts with the required number of leading zeros\n",
    "        if hash_value.startswith(target):\n",
    "            end_time = time.time()  \n",
    "            elapsed_time = end_time - start_time\n",
    "            \n",
    "            print(f\"Found proof-of-work!\")\n",
    "            print(f\"\\nMessage: {message}\")\n",
    "            print(f\"Nonce: {nonce}\")\n",
    "            print(f\"Hash: {hash_value}\")\n",
    "            print(f\"Time taken: {elapsed_time:.2f} seconds\")\n",
    "            return nonce, message, hash_value, elapsed_time\n",
    "        \n",
    "        nonce += 1  # Try other nonces until found one satifies condition "
   ]
  },
  {
   "cell_type": "markdown",
   "metadata": {},
   "source": [
    "### Main Program"
   ]
  },
  {
   "cell_type": "code",
   "execution_count": 40,
   "metadata": {},
   "outputs": [
    {
     "name": "stdout",
     "output_type": "stream",
     "text": [
      "\n",
      "Finding proof-of-work for 5 leading zeros...\n",
      "Found proof-of-work!\n",
      "\n",
      "Message: Duy-Tung:DigitalEconomics:1016287\n",
      "Nonce: 1016287\n",
      "Hash: 000003af5bfe86ee4ba32b3af4126f1bcb210dc3e171abbf047494acc65810b6\n",
      "Time taken: 2.60 seconds\n"
     ]
    },
    {
     "data": {
      "text/plain": [
       "(1016287,\n",
       " 'Duy-Tung:DigitalEconomics:1016287',\n",
       " '000003af5bfe86ee4ba32b3af4126f1bcb210dc3e171abbf047494acc65810b6',\n",
       " 2.5978317260742188)"
      ]
     },
     "execution_count": 40,
     "metadata": {},
     "output_type": "execute_result"
    }
   ],
   "source": [
    "# Find proof-of-work for 5 leading zeros\n",
    "print(\"\\nFinding proof-of-work for 5 leading zeros...\")\n",
    "proof_of_work(name, 5)"
   ]
  },
  {
   "cell_type": "code",
   "execution_count": null,
   "metadata": {},
   "outputs": [
    {
     "name": "stdout",
     "output_type": "stream",
     "text": [
      "\n",
      "Finding proof-of-work for 10 leading zeros...\n"
     ]
    }
   ],
   "source": [
    "# Find proof-of-work for 10 leading zeros\n",
    "print(\"\\nFinding proof-of-work for 10 leading zeros...\")\n",
    "proof_of_work(name, 10)"
   ]
  }
 ],
 "metadata": {
  "kernelspec": {
   "display_name": "Python 3 (ipykernel)",
   "language": "python",
   "name": "python3"
  },
  "language_info": {
   "codemirror_mode": {
    "name": "ipython",
    "version": 3
   },
   "file_extension": ".py",
   "mimetype": "text/x-python",
   "name": "python",
   "nbconvert_exporter": "python",
   "pygments_lexer": "ipython3",
   "version": "3.12.4"
  }
 },
 "nbformat": 4,
 "nbformat_minor": 4
}
