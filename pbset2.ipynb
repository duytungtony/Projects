{
 "cells": [
  {
   "cell_type": "code",
   "execution_count": null,
   "metadata": {},
   "outputs": [],
   "source": [
    "#!pip install git+https://github.com/karask/python-bitcoin-utils.git"
   ]
  },
  {
   "cell_type": "markdown",
   "metadata": {},
   "source": [
    "# Exercise 1 \n"
   ]
  },
  {
   "cell_type": "markdown",
   "metadata": {},
   "source": [
    "## Import"
   ]
  },
  {
   "cell_type": "code",
   "execution_count": null,
   "metadata": {},
   "outputs": [],
   "source": [
    "from bitcoinutils.setup import setup\n",
    "from bitcoinutils.keys import PrivateKey\n",
    "from bitcoinutils.keys import P2pkhAddress, PrivateKey\n",
    "from bitcoinutils.transactions import Transaction, TxInput, TxOutput\n",
    "from bitcoinutils.script import Script\n",
    "import requests"
   ]
  },
  {
   "cell_type": "markdown",
   "metadata": {},
   "source": [
    "## Key and Wallet Creation"
   ]
  },
  {
   "cell_type": "code",
   "execution_count": null,
   "metadata": {},
   "outputs": [],
   "source": [
    "# Testnet environment setup\n",
    "setup('testnet')\n",
    "\n",
    "private_key = PrivateKey()\n",
    "public_key = private_key.get_public_key()\n",
    "address = public_key.get_address()\n",
    "\n",
    "print(\"Private Key (WIF format):\", private_key.to_wif())\n",
    "print(\"Public Key:\", public_key.to_hex())\n",
    "print(\"Bitcoin Address (P2PKH):\", address.to_string())"
   ]
  },
  {
   "cell_type": "markdown",
   "metadata": {},
   "source": [
    "Private Key (WIF format): cUYYNWUYYMUQncmo8curJihmDdNXbGAKKWpiCb1MdjkdcSjCGJuC\n",
    "\n",
    "Public Key: 03db1db7e0d759dd6f87abf8be0fcf3d0464f71d234b2abfba5a12c147d39a06a6\n",
    "\n",
    "Bitcoin Address (P2PKH): mkvbvcrfDbJC2je27tSyA9MH9rnjPkFRXt"
   ]
  },
  {
   "cell_type": "markdown",
   "metadata": {},
   "source": [
    "## P2PKH Transaction"
   ]
  },
  {
   "cell_type": "markdown",
   "metadata": {},
   "source": [
    "### Params"
   ]
  },
  {
   "cell_type": "code",
   "execution_count": null,
   "metadata": {},
   "outputs": [],
   "source": [
    "# My keys\n",
    "priv_key = PrivateKey('cUYYNWUYYMUQncmo8curJihmDdNXbGAKKWpiCb1MdjkdcSjCGJuC')\n",
    "pub_key = priv_key.get_public_key()\n",
    "from_address = pub_key.get_address()\n",
    "\n",
    "# Receiving address\n",
    "to_address = P2pkhAddress('mreLpAzPWBtdwBC9NMEsBy1jkQ3phjy1Eh')\n",
    "\n",
    "# UTXO used\n",
    "utxo_txid = \"af587d919993ea39da724073d9bac9ea1e39e7b55a45d2ce1cb5e4119bc4b345\"\n",
    "utxo_vout = 1  # Index of the UTXO\n",
    "\n",
    "# tBTC amount in the UTXO and transaction fee (calculated in satoshis)\n",
    "amount_to_send = int(0.00012 * 100000000)\n",
    "fee = int(0.00001 * 100000000) \n",
    "total_utxo = int(0.00013682 * 100000000)  \n",
    "change_amount = total_utxo - amount_to_send - fee  "
   ]
  },
  {
   "cell_type": "markdown",
   "metadata": {},
   "source": [
    "### Main Program"
   ]
  },
  {
   "cell_type": "code",
   "execution_count": null,
   "metadata": {},
   "outputs": [],
   "source": [
    "# Setup connection to the testnet\n",
    "setup('testnet')\n",
    "\n",
    "# Create the transaction input and output with the UTXO\n",
    "txin = TxInput(utxo_txid, utxo_vout)\n",
    "txout = TxOutput(amount_to_send, to_address.to_script_pub_key())\n",
    "\n",
    "# Output for change\n",
    "change_address = from_address\n",
    "change_output = TxOutput(change_amount, change_address.to_script_pub_key())\n",
    "\n",
    "# Create the transaction\n",
    "tx = Transaction([txin], [txout, change_output])\n",
    "\n",
    "# Sign the transaction with your private key\n",
    "script_pub_key = from_address.to_script_pub_key()  \n",
    "sig = priv_key.sign_input(tx, 0, script_pub_key)\n",
    "txin.script_sig = Script([sig, pub_key.to_hex()])\n",
    "\n",
    "# Review the transaction and prepare it for broadcasting\n",
    "raw_tx = tx.serialize()\n",
    "print(\"Raw transaction: \", raw_tx)\n",
    "\n",
    "# Broadcast the transaction to the testnet via the Blockstream API\n",
    "response = requests.post('https://blockstream.info/testnet/api/tx', data=raw_tx)\n",
    "\n",
    "# Check the response\n",
    "if response.status_code == 200:\n",
    "    print('Transaction ID:', response.text)\n",
    "else:\n",
    "    print('Error:', response.text)"
   ]
  },
  {
   "cell_type": "markdown",
   "metadata": {},
   "source": [
    "Raw transaction: 020000000145b3c49b11e4b51cced2455ab5e7391eeac9bad9734072da39ea9399917d58af010000006a47304402201f14538a448e55ab80f42edd67a93b32336a21b7763172ebf5e821161d49239202204ff0f0a8b1b438104d03079d31773ea2d90d1b25be28365ae356b92717e54969012103db1db7e0d759dd6f87abf8be0fcf3d0464f71d234b2abfba5a12c147d39a06a6ffffffff02e02e0000000000001976a9147a0f17f08359d9bff71ad97f1eb39b694ad67c0488acaa020000000000001976a9143b519bbc4dcc90d447c25e02aa4a544ab23a6b7188ac00000000 \n",
    "\n",
    "Transaction ID: e1d6d4a1dd80be08c107fa81555c78203ce04955ef4e56c56e7a5960a7989d90"
   ]
  },
  {
   "cell_type": "markdown",
   "metadata": {},
   "source": [
    "# Exercise 2"
   ]
  },
  {
   "cell_type": "markdown",
   "metadata": {},
   "source": [
    "## Question 1"
   ]
  },
  {
   "cell_type": "markdown",
   "metadata": {},
   "source": [
    "### Import"
   ]
  },
  {
   "cell_type": "code",
   "execution_count": null,
   "metadata": {},
   "outputs": [],
   "source": [
    "from bitcoinutils.setup import setup\n",
    "from bitcoinutils.transactions import Transaction, TxInput, TxOutput\n",
    "from bitcoinutils.script import Script\n",
    "from bitcoinutils.keys import PrivateKey, P2pkhAddress\n",
    "import requests"
   ]
  },
  {
   "cell_type": "markdown",
   "metadata": {},
   "source": [
    "### Params"
   ]
  },
  {
   "cell_type": "code",
   "execution_count": null,
   "metadata": {},
   "outputs": [],
   "source": [
    "\n",
    "# My keys\n",
    "priv_key = PrivateKey('cUYYNWUYYMUQncmo8curJihmDdNXbGAKKWpiCb1MdjkdcSjCGJuC')\n",
    "pub_key = priv_key.get_public_key()\n",
    "\n",
    "second_pub_key = PublicKey('02019662a808d4a0df7e8c1ee8b26646e59cfaa92ebd906bde14b4bda5113fa2a9')\n",
    "\n",
    "# UTXO details\n",
    "utxo_txid = \"d7a19890e135fb6f230f035c86f8feef5be5dab8f4d9a7f8492105d509fdb4f0\"\n",
    "utxo_vout = 0  \n",
    "\n",
    "# Recipient\n",
    "amount_to_send = int(0.0001 * 100000000)  # 10000 satoshis (0.0001 BTC)\n",
    "fee = int(0.00001 * 100000000)  # 1000 satoshis\n",
    "total_utxo = int(0.00013682 * 100000000)  # 13682 satoshis (0.00013682 BTC)\n",
    "change_amount = total_utxo - amount_to_send - fee  # Số tiền thừa (682 satoshis)"
   ]
  },
  {
   "cell_type": "markdown",
   "metadata": {},
   "source": [
    "### Main Program"
   ]
  },
  {
   "cell_type": "code",
   "execution_count": null,
   "metadata": {},
   "outputs": [],
   "source": [
    "setup('testnet')\n",
    "\n",
    "multisig_script = Script([\n",
    "    'OP_2', pub_key.to_hex(), second_pub_key.to_hex(), 'OP_2', 'OP_CHECKMULTISIG'\n",
    "])\n",
    "\n",
    "# Create transaction input output\n",
    "txin = TxInput(utxo_txid, utxo_vout)\n",
    "txout = TxOutput(amount_to_send, multisig_script)\n",
    "\n",
    "change_address = pub_key.get_address()  # Địa chỉ P2PKH của bạn để nhận lại tiền thừa\n",
    "change_output = TxOutput(change_amount, change_address.to_script_pub_key())\n",
    "\n",
    "# Transaction\n",
    "tx = Transaction([txin], [txout, change_output])\n",
    "\n",
    "# Sign\n",
    "script_pub_key = change_address.to_script_pub_key()  # Script công khai của địa chỉ P2PKH\n",
    "sig = priv_key.sign_input(tx, 0, script_pub_key)\n",
    "txin.script_sig = Script([sig, pub_key.to_hex()])\n",
    "\n",
    "raw_tx = tx.serialize()\n",
    "print(\"Raw transaction:\", raw_tx)\n",
    "\n",
    "# Broadcast\n",
    "response = requests.post('https://blockstream.info/testnet/api/tx', data=raw_tx)\n",
    "\n",
    "if response.status_code == 200:\n",
    "    print('Transaction ID:', response.text)\n",
    "else:\n",
    "    print('Error:', response.text)"
   ]
  },
  {
   "cell_type": "markdown",
   "metadata": {},
   "source": [
    "Raw transaction: 0200000001f0b4fd09d5052149f8a7d9f4b8dae55beffef8865c030f236ffb35e19098a1d7000000006a4730440220048bf48c0a6db50cfd40f35181823c78007f39fc4286c0567adaf2e30e474c0d02204b03d4ef3ecdaf7a4266d3785522d84a9f73682f46195424bfabc57f58791d96012103db1db7e0d759dd6f87abf8be0fcf3d0464f71d234b2abfba5a12c147d39a06a6ffffffff02102700000000000047522103db1db7e0d759dd6f87abf8be0fcf3d0464f71d234b2abfba5a12c147d39a06a62102019662a808d4a0df7e8c1ee8b26646e59cfaa92ebd906bde14b4bda5113fa2a952ae7a0a0000000000001976a9143b519bbc4dcc90d447c25e02aa4a544ab23a6b7188ac00000000\n",
    "\n",
    "Transaction ID: d89e3faa2d928b4d37e847133cd427fce536b2f5811522ff18020a43b3c8c48a"
   ]
  },
  {
   "cell_type": "markdown",
   "metadata": {},
   "source": [
    "## Question 2"
   ]
  },
  {
   "cell_type": "markdown",
   "metadata": {},
   "source": [
    "### Import"
   ]
  },
  {
   "cell_type": "code",
   "execution_count": null,
   "metadata": {},
   "outputs": [],
   "source": [
    "from bitcoinutils.setup import setup\n",
    "from bitcoinutils.keys import PrivateKey, P2pkhAddress\n",
    "from bitcoinutils.transactions import Transaction, TxInput, TxOutput\n",
    "from bitcoinutils.script import Script"
   ]
  },
  {
   "cell_type": "markdown",
   "metadata": {},
   "source": [
    "### Params"
   ]
  },
  {
   "cell_type": "code",
   "execution_count": null,
   "metadata": {},
   "outputs": [],
   "source": [
    "# My keys\n",
    "my_priv_key = PrivateKey('cUYYNWUYYMUQncmo8curJihmDdNXbGAKKWpiCb1MdjkdcSjCGJuC')\n",
    "my_pub_key = my_priv_key.get_public_key()\n",
    "\n",
    "# Teacher's key \n",
    "teacher_pub_key = PublicKey('02019662a808d4a0df7e8c1ee8b26646e59cfaa92ebd906bde14b4bda5113fa2a9')\n",
    "\n",
    "# UTXO from the multisignature output\n",
    "utxo_txid = \"89436ccb83078094ac54795f51da6cbd538acdf3e8c8087e8bc6418b40dcff9a\"\n",
    "utxo_vout = 0  \n",
    "\n",
    "#Recipient\n",
    "to_address = P2pkhAddress('msfTfNj6FicTNBShCJBhoxvhHoM794cKsZ')\n",
    "amount_to_send = int(0.00017769 * 100000000)  \n",
    "fee = 500  \n",
    "total_amount = amount_to_send - fee  "
   ]
  },
  {
   "cell_type": "markdown",
   "metadata": {},
   "source": [
    "### Main Program"
   ]
  },
  {
   "cell_type": "code",
   "execution_count": null,
   "metadata": {},
   "outputs": [],
   "source": [
    "setup('testnet')\n",
    "\n",
    "multisig_script = Script([\n",
    "    'OP_2', my_pub_key.to_hex(), teacher_pub_key.to_hex(), 'OP_2', 'OP_CHECKMULTISIG'\n",
    "])\n",
    "\n",
    "# Multisig script\n",
    "my_pub_key_hex = my_pub_key.to_hex()  \n",
    "multisig_script = Script(['OP_2', my_pub_key_hex, teacher_pub_key_hex, 'OP_2', 'OP_CHECKMULTISIG'])\n",
    "\n",
    "# Create transaction\n",
    "txin = TxInput(utxo_txid, utxo_vout)\n",
    "txout = TxOutput(total_amount, Script(['OP_DUP', 'OP_HASH160', to_address.to_hash160(), 'OP_EQUALVERIFY', 'OP_CHECKSIG']))\n",
    "tx = Transaction([txin], [txout])\n",
    "\n",
    "# Sign the transaction\n",
    "sig = my_priv_key.sign_input(tx, 0, multisig_script)\n",
    "\n",
    "# Script_sig for the multisig transaction\n",
    "txin.script_sig = Script([sig, my_pub_key.to_hex()])\n",
    "\n",
    "unsigned_tx_hex = tx.serialize()\n",
    "signature_hex = sig \n",
    "\n",
    "print(\"Unsigned Transaction:\", unsigned_tx_hex)\n",
    "print(\"First Signature:\", signature_hex)"
   ]
  },
  {
   "cell_type": "markdown",
   "metadata": {},
   "source": [
    "Unsigned Transaction: 02000000019affdc408b41c68b7e08c8e8f3cd8a53bd6cda515f7954ac94800783cb6c4389000000006a473044022057574ef7f8bba13f4f019d24869519ea6445c89c5dac8e78e121886871b789ea02200667430340c33086832a88a1e676e0f21417baea09cb992dea307bda95a36192012103db1db7e0d759dd6f87abf8be0fcf3d0464f71d234b2abfba5a12c147d39a06a6ffffffff0175430000000000001976a914853d5a191fd2ab19ebbd9519a696e5f30f7d119788ac00000000\n",
    "\n",
    "First Signature: 3044022057574ef7f8bba13f4f019d24869519ea6445c89c5dac8e78e121886871b789ea02200667430340c33086832a88a1e676e0f21417baea09cb992dea307bda95a3619201"
   ]
  }
 ],
 "metadata": {
  "kernelspec": {
   "display_name": "Python 3 (ipykernel)",
   "language": "python",
   "name": "python3"
  },
  "language_info": {
   "codemirror_mode": {
    "name": "ipython",
    "version": 3
   },
   "file_extension": ".py",
   "mimetype": "text/x-python",
   "name": "python",
   "nbconvert_exporter": "python",
   "pygments_lexer": "ipython3",
   "version": "3.12.4"
  }
 },
 "nbformat": 4,
 "nbformat_minor": 4
}
